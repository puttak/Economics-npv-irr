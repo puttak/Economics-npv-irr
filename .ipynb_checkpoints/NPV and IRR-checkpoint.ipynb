{
 "cells": [
  {
   "cell_type": "code",
   "execution_count": 10,
   "metadata": {},
   "outputs": [
    {
     "name": "stdout",
     "output_type": "stream",
     "text": [
      "Enter Rate of Interest : 10\n",
      "Enter Period of Investment (No. of Years) : 5\n",
      "Enter Investment[space]Income Year Wise in each line : \n",
      "10000 0 \n",
      "0 2000\n",
      "0 3000\n",
      "0 4000\n",
      "0 5000\n",
      "0 1000\n",
      "-9792\n"
     ]
    },
    {
     "data": {
      "text/plain": [
       "{'DF': [],\n",
       " 'Income': [0, 2000, 3000, 4000, 5000, 1000],\n",
       " 'Investment': [10000, 0, 0, 0, 0, 0],\n",
       " 'PV': [-10000, 181, 24, 3, 0, 0],\n",
       " 'Year': [0, 1, 2, 3, 4, 5]}"
      ]
     },
     "execution_count": 10,
     "metadata": {},
     "output_type": "execute_result"
    }
   ],
   "source": [
    "r = int(raw_input(\"Enter Rate of Interest : \"))\n",
    "n = int(raw_input(\"Enter Period of Investment (No. of Years) : \"))\n",
    "\n",
    "data={'Year' :[] , 'Investment' :[] , 'Income' :[] , 'DF' :[] , 'PV' :[] }\n",
    "\n",
    "print (\"Enter Investment[space]Income Year Wise in each line : \")\n",
    "\n",
    "for x in range(0,n+1):\n",
    "    data[\"Year\"].append(x)\n",
    "    s = raw_input()\n",
    "    mynums = map(int, s.split())\n",
    "    data[\"Investment\"].append(mynums[0])\n",
    "    data[\"Income\"].append(mynums[1])\n",
    "    pv = (mynums[1]-mynums[0])/(1+r)**x\n",
    "    data[\"PV\"].append(pv)\n",
    "\n",
    "NPV=0\n",
    "\n",
    "for y in range(0,n+1):\n",
    "    NPV=NPV+data[\"PV\"][y]\n",
    "\n",
    "print NPV\n",
    "\n",
    "data\n"
   ]
  },
  {
   "cell_type": "code",
   "execution_count": null,
   "metadata": {},
   "outputs": [],
   "source": []
  }
 ],
 "metadata": {
  "kernelspec": {
   "display_name": "Python 2",
   "language": "python",
   "name": "python2"
  }
 },
 "nbformat": 4,
 "nbformat_minor": 2
}
